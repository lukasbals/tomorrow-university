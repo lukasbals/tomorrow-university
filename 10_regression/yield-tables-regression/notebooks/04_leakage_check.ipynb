{
 "cells": [
  {
   "cell_type": "markdown",
   "id": "bd05fc67",
   "metadata": {},
   "source": [
    "# Detecting leakage\n",
    "\n",
    "It's essential to ensure that our model is not inadvertently using information from the future to make predictions about the past. This is known as \"data leakage\" and can lead to overly optimistic performance estimates during model evaluation."
   ]
  },
  {
   "cell_type": "code",
   "execution_count": 8,
   "id": "45307824",
   "metadata": {},
   "outputs": [],
   "source": [
    "import pandas as pd"
   ]
  },
  {
   "cell_type": "code",
   "execution_count": 9,
   "id": "c9987b2c",
   "metadata": {},
   "outputs": [
    {
     "name": "stdout",
     "output_type": "stream",
     "text": [
      "   id  yield_class  age  average_height   dbh  taper  trees_per_ha  \\\n",
      "0   1         15.0   20             5.3  11.5  0.396        2585.0   \n",
      "1   1         15.0   30            10.6  16.7  0.458        1708.0   \n",
      "2   1         15.0   40            15.7  21.6  0.460        1266.0   \n",
      "3   1         15.0   50            20.5  26.1  0.456        1003.0   \n",
      "4   1         15.0   60            24.6  30.2  0.451         830.0   \n",
      "\n",
      "   volume_per_ha  \n",
      "0           54.0  \n",
      "1          180.0  \n",
      "2          334.0  \n",
      "3          499.0  \n",
      "4          659.0  \n"
     ]
    }
   ],
   "source": [
    "# Load your prepared data from M3L1\n",
    "df = pd.read_csv(\"../data/interim/cleaned_data.csv\")\n",
    "target_variable = \"volume_per_ha\"\n",
    "\n",
    "print(df.head())"
   ]
  },
  {
   "cell_type": "markdown",
   "id": "a1bb1e7c",
   "metadata": {},
   "source": [
    "## Calculate Pearson Correlation Coefficient\n",
    "\n",
    "If the Pearson correlation coefficient is higher than 0.95 we are facing potential data leakage. As the highest correlation is between `dbh` and the target variable (0.775), we don't need to take any action."
   ]
  },
  {
   "cell_type": "code",
   "execution_count": 10,
   "id": "c63cd963",
   "metadata": {},
   "outputs": [
    {
     "name": "stdout",
     "output_type": "stream",
     "text": [
      "Correlation between id and volume_per_ha: 0.1472221319450277\n",
      "Correlation between yield_class and volume_per_ha: 0.44550909619919404\n",
      "Correlation between age and volume_per_ha: 0.5168362829761064\n",
      "Correlation between average_height and volume_per_ha: 0.9130683925944624\n",
      "Correlation between dbh and volume_per_ha: 0.775357334262694\n",
      "Correlation between taper and volume_per_ha: -0.03066251233217578\n",
      "Correlation between trees_per_ha and volume_per_ha: -0.5313685123907324\n",
      "Correlation between volume_per_ha and volume_per_ha: 1.0\n"
     ]
    }
   ],
   "source": [
    "for col in df.columns:\n",
    "    if col != \"Area\" and col != \"Year\":\n",
    "        print(\n",
    "            f\"Correlation between {col} and {target_variable}: {df[[col, target_variable]].corr().iloc[0,1]}\"\n",
    "        )"
   ]
  }
 ],
 "metadata": {
  "kernelspec": {
   "display_name": ".venv",
   "language": "python",
   "name": "python3"
  },
  "language_info": {
   "codemirror_mode": {
    "name": "ipython",
    "version": 3
   },
   "file_extension": ".py",
   "mimetype": "text/x-python",
   "name": "python",
   "nbconvert_exporter": "python",
   "pygments_lexer": "ipython3",
   "version": "3.12.11"
  }
 },
 "nbformat": 4,
 "nbformat_minor": 5
}
