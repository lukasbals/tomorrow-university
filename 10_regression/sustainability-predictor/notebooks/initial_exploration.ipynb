{
 "cells": [
  {
   "cell_type": "markdown",
   "id": "a3e8f7ca",
   "metadata": {},
   "source": [
    "# Initial Exploration"
   ]
  },
  {
   "cell_type": "code",
   "execution_count": 5,
   "id": "4249520e",
   "metadata": {},
   "outputs": [],
   "source": [
    "# Imports\n",
    "import pandas as pd"
   ]
  },
  {
   "cell_type": "code",
   "execution_count": 6,
   "id": "ce5141f5",
   "metadata": {},
   "outputs": [],
   "source": [
    "# Load the dataset\n",
    "df = pd.read_csv(\"../data/EDGARfood.csv\")"
   ]
  },
  {
   "cell_type": "code",
   "execution_count": 7,
   "id": "63bc0bf1",
   "metadata": {},
   "outputs": [
    {
     "name": "stdout",
     "output_type": "stream",
     "text": [
      "  Food System Stage FS Stage Order            GHG      Country  Year  \\\n",
      "0              Land        Stage 1  Methane (CH4)  Afghanistan  1990   \n",
      "1              Land        Stage 1  Methane (CH4)  Afghanistan  1991   \n",
      "2              Land        Stage 1  Methane (CH4)  Afghanistan  1992   \n",
      "3              Land        Stage 1  Methane (CH4)  Afghanistan  1993   \n",
      "4              Land        Stage 1  Methane (CH4)  Afghanistan  1994   \n",
      "\n",
      "   GHG Emissions                             Unit  \n",
      "0            0.6  metric tons CO2e (GWP-100, AR5)  \n",
      "1            0.6  metric tons CO2e (GWP-100, AR5)  \n",
      "2            0.6  metric tons CO2e (GWP-100, AR5)  \n",
      "3            0.6  metric tons CO2e (GWP-100, AR5)  \n",
      "4            0.6  metric tons CO2e (GWP-100, AR5)  \n"
     ]
    }
   ],
   "source": [
    "# Print data\n",
    "print(df.head())"
   ]
  }
 ],
 "metadata": {
  "kernelspec": {
   "display_name": ".venv",
   "language": "python",
   "name": "python3"
  },
  "language_info": {
   "codemirror_mode": {
    "name": "ipython",
    "version": 3
   },
   "file_extension": ".py",
   "mimetype": "text/x-python",
   "name": "python",
   "nbconvert_exporter": "python",
   "pygments_lexer": "ipython3",
   "version": "3.12.11"
  }
 },
 "nbformat": 4,
 "nbformat_minor": 5
}
