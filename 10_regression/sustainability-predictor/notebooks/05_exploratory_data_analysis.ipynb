{
 "cells": [
  {
   "cell_type": "code",
   "execution_count": 2,
   "id": "51aa0006",
   "metadata": {},
   "outputs": [],
   "source": [
    "import pandas as pd\n",
    "import numpy as np\n",
    "import matplotlib.pyplot as plt\n",
    "\n",
    "X_train = pd.read_csv('../data/processed/X_train.csv')\n",
    "y_train = pd.read_csv('../data/processed/y_train.csv')\n",
    "X_test = pd.read_csv('../data/processed/X_test.csv')\n",
    "y_test = pd.read_csv('../data/processed/y_test.csv')"
   ]
  },
  {
   "cell_type": "code",
   "execution_count": 3,
   "id": "05ade10f",
   "metadata": {},
   "outputs": [
    {
     "name": "stdout",
     "output_type": "stream",
     "text": [
      "Dataset Shape: (5079, 10)\n",
      "Number of features: 10\n",
      "Number of samples: 5079\n",
      "   -6.743998129976640221e-02  -6.743998129976708222e-02  \\\n",
      "0                   -0.06744                   -0.06744   \n",
      "1                   -0.06744                   -0.06744   \n",
      "2                   -0.06744                   -0.06744   \n",
      "3                   -0.06744                   -0.06744   \n",
      "4                   -0.06744                   -0.06744   \n",
      "\n",
      "   -6.743998129976747080e-02  -6.743998129976772060e-02  \\\n",
      "0                   -0.06744                   -0.06744   \n",
      "1                   -0.06744                   -0.06744   \n",
      "2                   -0.06744                   -0.06744   \n",
      "3                   -0.06744                   -0.06744   \n",
      "4                   -0.06744                   -0.06744   \n",
      "\n",
      "   -6.743998129976785938e-02  -6.743998129976837286e-02  \\\n",
      "0                   -0.06744                   -0.06744   \n",
      "1                   -0.06744                   -0.06744   \n",
      "2                   -0.06744                   -0.06744   \n",
      "3                   -0.06744                   -0.06744   \n",
      "4                   -0.06744                   -0.06744   \n",
      "\n",
      "   -6.743998129976999656e-02  -6.743998129977005207e-02  \\\n",
      "0                   -0.06744                   -0.06744   \n",
      "1                   -0.06744                   -0.06744   \n",
      "2                   -0.06744                   -0.06744   \n",
      "3                   -0.06744                   -0.06744   \n",
      "4                   -0.06744                   -0.06744   \n",
      "\n",
      "   -6.442839426638659328e-02  -6.743998129977495093e-02  \n",
      "0                  -0.064428                   -0.06744  \n",
      "1                  -0.064428                   -0.06744  \n",
      "2                  -0.064428                   -0.06744  \n",
      "3                  -0.064428                   -0.06744  \n",
      "4                  -0.064428                   -0.06744  \n",
      "<class 'pandas.core.frame.DataFrame'>\n",
      "RangeIndex: 5079 entries, 0 to 5078\n",
      "Data columns (total 10 columns):\n",
      " #   Column                     Non-Null Count  Dtype  \n",
      "---  ------                     --------------  -----  \n",
      " 0   -6.743998129976640221e-02  5079 non-null   float64\n",
      " 1   -6.743998129976708222e-02  5079 non-null   float64\n",
      " 2   -6.743998129976747080e-02  5079 non-null   float64\n",
      " 3   -6.743998129976772060e-02  5079 non-null   float64\n",
      " 4   -6.743998129976785938e-02  5079 non-null   float64\n",
      " 5   -6.743998129976837286e-02  5079 non-null   float64\n",
      " 6   -6.743998129976999656e-02  5079 non-null   float64\n",
      " 7   -6.743998129977005207e-02  5079 non-null   float64\n",
      " 8   -6.442839426638659328e-02  5079 non-null   float64\n",
      " 9   -6.743998129977495093e-02  5079 non-null   float64\n",
      "dtypes: float64(10)\n",
      "memory usage: 396.9 KB\n",
      "None\n",
      "       -6.743998129976640221e-02  -6.743998129976708222e-02  \\\n",
      "count                5079.000000                5079.000000   \n",
      "mean                    0.000013                   0.000013   \n",
      "std                     1.000196                   1.000196   \n",
      "min                    -0.067440                  -0.067440   \n",
      "25%                    -0.067440                  -0.067440   \n",
      "50%                    -0.067440                  -0.067440   \n",
      "75%                    -0.067440                  -0.067440   \n",
      "max                    14.827999                  14.827999   \n",
      "\n",
      "       -6.743998129976747080e-02  -6.743998129976772060e-02  \\\n",
      "count                5079.000000                5079.000000   \n",
      "mean                    0.000013                   0.000013   \n",
      "std                     1.000196                   1.000196   \n",
      "min                    -0.067440                  -0.067440   \n",
      "25%                    -0.067440                  -0.067440   \n",
      "50%                    -0.067440                  -0.067440   \n",
      "75%                    -0.067440                  -0.067440   \n",
      "max                    14.827999                  14.827999   \n",
      "\n",
      "       -6.743998129976785938e-02  -6.743998129976837286e-02  \\\n",
      "count                5079.000000                5079.000000   \n",
      "mean                    0.000013                   0.000013   \n",
      "std                     1.000196                   1.000196   \n",
      "min                    -0.067440                  -0.067440   \n",
      "25%                    -0.067440                  -0.067440   \n",
      "50%                    -0.067440                  -0.067440   \n",
      "75%                    -0.067440                  -0.067440   \n",
      "max                    14.827999                  14.827999   \n",
      "\n",
      "       -6.743998129976999656e-02  -6.743998129977005207e-02  \\\n",
      "count                5079.000000                5079.000000   \n",
      "mean                    0.000013                   0.000013   \n",
      "std                     1.000196                   1.000196   \n",
      "min                    -0.067440                  -0.067440   \n",
      "25%                    -0.067440                  -0.067440   \n",
      "50%                    -0.067440                  -0.067440   \n",
      "75%                    -0.067440                  -0.067440   \n",
      "max                    14.827999                  14.827999   \n",
      "\n",
      "       -6.442839426638659328e-02  -6.743998129977495093e-02  \n",
      "count                5079.000000                5079.000000  \n",
      "mean                    0.000013                   0.000013  \n",
      "std                     1.000196                   1.000196  \n",
      "min                    -0.064428                  -0.067440  \n",
      "25%                    -0.064428                  -0.067440  \n",
      "50%                    -0.064428                  -0.067440  \n",
      "75%                    -0.064428                  -0.067440  \n",
      "max                    15.521107                  14.827999  \n"
     ]
    }
   ],
   "source": [
    "# Load your training data\n",
    "\n",
    "\n",
    "# Basic dataset information\n",
    "print(\"Dataset Shape:\", X_train.shape)  # (rows, columns)\n",
    "print(\"Number of features:\", len(X_train.columns))\n",
    "print(\"Number of samples:\", len(X_train))\n",
    "\n",
    "# Look at the first few rows\n",
    "print(X_train.head())\n",
    "\n",
    "# Get basic info about each column\n",
    "print(X_train.info())\n",
    "\n",
    "# Basic statistics for numerical columns\n",
    "print(X_train.describe())"
   ]
  },
  {
   "cell_type": "code",
   "execution_count": 4,
   "id": "b3076f0c",
   "metadata": {},
   "outputs": [
    {
     "name": "stdout",
     "output_type": "stream",
     "text": [
      "Missing values per column:\n",
      "Series([], dtype: int64)\n",
      "\n",
      "Data types:\n",
      "-6.743998129976640221e-02    float64\n",
      "-6.743998129976708222e-02    float64\n",
      "-6.743998129976747080e-02    float64\n",
      "-6.743998129976772060e-02    float64\n",
      "-6.743998129976785938e-02    float64\n",
      "-6.743998129976837286e-02    float64\n",
      "-6.743998129976999656e-02    float64\n",
      "-6.743998129977005207e-02    float64\n",
      "-6.442839426638659328e-02    float64\n",
      "-6.743998129977495093e-02    float64\n",
      "dtype: object\n",
      "\n",
      "Duplicate rows: 5068\n"
     ]
    }
   ],
   "source": [
    "# Check for missing values\n",
    "missing_data = X_train.isnull().sum()\n",
    "print(\"Missing values per column:\")\n",
    "print(missing_data[missing_data > 0])\n",
    "\n",
    "# Check data types\n",
    "print(\"\\nData types:\")\n",
    "print(X_train.dtypes)\n",
    "\n",
    "# Look for duplicate rows\n",
    "duplicates = X_train.duplicated().sum()\n",
    "print(f\"\\nDuplicate rows: {duplicates}\")"
   ]
  },
  {
   "cell_type": "code",
   "execution_count": 7,
   "id": "612547aa",
   "metadata": {},
   "outputs": [
    {
     "name": "stdout",
     "output_type": "stream",
     "text": [
      "Target Variable Analysis:\n",
      "Mean: total_emission    60133.143041\n",
      "dtype: float64\n",
      "Median: total_emission    11366.744481\n",
      "dtype: float64\n",
      "Standard Deviation: total_emission    202364.039228\n",
      "dtype: float64\n",
      "Minimum: total_emission   -391884.0563\n",
      "dtype: float64\n",
      "Maximum: total_emission    2.541904e+06\n",
      "dtype: float64\n",
      "Missing values: total_emission    0\n",
      "dtype: int64\n"
     ]
    }
   ],
   "source": [
    "# Basic target statistics\n",
    "print(\"Target Variable Analysis:\")\n",
    "print(f\"Mean: {y_train.mean()}\")\n",
    "print(f\"Median: {y_train.median()}\")\n",
    "print(f\"Standard Deviation: {y_train.std()}\")\n",
    "print(f\"Minimum: {y_train.min()}\")\n",
    "print(f\"Maximum: {y_train.max()}\")\n",
    "\n",
    "# Check for missing values in target\n",
    "print(f\"Missing values: {y_train.isnull().sum()}\")"
   ]
  },
  {
   "cell_type": "code",
   "execution_count": 18,
   "id": "6523bbd5",
   "metadata": {},
   "outputs": [
    {
     "data": {
      "image/png": "[encoded data removed]",
      "text/plain": [
       "<Figure size 1000x600 with 1 Axes>"
      ]
     },
     "metadata": {},
     "output_type": "display_data"
    }
   ],
   "source": [
    "# Create a simple histogram\n",
    "plt.figure(figsize=(10, 6))\n",
    "plt.hist(y_train, bins=30, alpha=0.7, color='skyblue')\n",
    "plt.axvline(y_train['total_emission'].mean(), color='red', linestyle='--', label=f'Mean: {y_train.mean()}')\n",
    "plt.axvline(y_train['total_emission'].median(), color='green', linestyle='--', label=f'Median: {y_train.median()}')\n",
    "plt.xlabel('Target Value')\n",
    "plt.ylabel('Frequency')\n",
    "plt.title('Distribution of Target Variable')\n",
    "plt.legend()\n",
    "plt.show()"
   ]
  }
 ],
 "metadata": {
  "kernelspec": {
   "display_name": ".venv",
   "language": "python",
   "name": "python3"
  },
  "language_info": {
   "codemirror_mode": {
    "name": "ipython",
    "version": 3
   },
   "file_extension": ".py",
   "mimetype": "text/x-python",
   "name": "python",
   "nbconvert_exporter": "python",
   "pygments_lexer": "ipython3",
   "version": "3.12.11"
  }
 },
 "nbformat": 4,
 "nbformat_minor": 5
}
