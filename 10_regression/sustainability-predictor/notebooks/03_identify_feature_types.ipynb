{
 "cells": [
  {
   "cell_type": "markdown",
   "id": "c25e5af4",
   "metadata": {},
   "source": [
    "# Identify Feature Types"
   ]
  },
  {
   "cell_type": "code",
   "execution_count": 22,
   "id": "011ae045",
   "metadata": {},
   "outputs": [],
   "source": [
    "import pandas as pd"
   ]
  },
  {
   "cell_type": "code",
   "execution_count": 23,
   "id": "eb1641e4",
   "metadata": {},
   "outputs": [
    {
     "name": "stdout",
     "output_type": "stream",
     "text": [
      "Ready for Feature Classification:\n",
      "  Training features: (5376, 7)\n",
      "  Features to classify: 7\n",
      "  Data integrity verified: ✅\n"
     ]
    }
   ],
   "source": [
    "# Load your prepared data from M3L1\n",
    "X_train = pd.read_csv(\"../data/processed/X_train.csv\")\n",
    "X_test = pd.read_csv(\"../data/processed/X_test.csv\")\n",
    "y_train = pd.read_csv(\"../data/processed/y_train.csv\")\n",
    "y_test = pd.read_csv(\"../data/processed/y_test.csv\")\n",
    "\n",
    "print(\"Ready for Feature Classification:\")\n",
    "print(f\"  Training features: {X_train.shape}\")\n",
    "print(f\"  Features to classify: {len(X_train.columns)}\")\n",
    "print(f\"  Data integrity verified: ✅\")"
   ]
  }
 ],
 "metadata": {
  "kernelspec": {
   "display_name": ".venv",
   "language": "python",
   "name": "python3"
  },
  "language_info": {
   "codemirror_mode": {
    "name": "ipython",
    "version": 3
   },
   "file_extension": ".py",
   "mimetype": "text/x-python",
   "name": "python",
   "nbconvert_exporter": "python",
   "pygments_lexer": "ipython3",
   "version": "3.12.11"
  }
 },
 "nbformat": 4,
 "nbformat_minor": 5
}
