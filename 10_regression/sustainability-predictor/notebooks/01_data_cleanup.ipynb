{
 "cells": [
  {
   "cell_type": "markdown",
   "id": "bfbb708f",
   "metadata": {},
   "source": [
    "# Data cleanup\n",
    "\n",
    "In this notebook, we will perform data cleanup operations on the Agrofood CO2 emission dataset. This includes removing duplicates, handling missing values, and providing a summary of the dataset's features."
   ]
  },
  {
   "cell_type": "code",
   "execution_count": 16,
   "id": "1b03f66b",
   "metadata": {},
   "outputs": [],
   "source": [
    "import pandas as pd"
   ]
  },
  {
   "cell_type": "code",
   "execution_count": 17,
   "id": "85729854",
   "metadata": {},
   "outputs": [],
   "source": [
    "# Load the dataset\n",
    "df = pd.read_csv(\"../data/raw/Agrofood_co2_emission.csv\")"
   ]
  },
  {
   "cell_type": "markdown",
   "id": "e5eb1b8d",
   "metadata": {},
   "source": [
    "## Define relevant columns\n",
    "\n",
    "We only use some countries to keep it simple. In this example we use southern european countries."
   ]
  },
  {
   "cell_type": "code",
   "execution_count": 18,
   "id": "bfa6e410",
   "metadata": {},
   "outputs": [],
   "source": [
    "relevant_columns = df.columns\n",
    "df = df[relevant_columns]\n",
    "\n",
    "southern_europe = [\n",
    "    'Albania', 'Andorra', 'Bosnia and Herzegovina', 'Croatia', 'Greece', 'Italy',\n",
    "    'Kosovo', 'Malta', 'Montenegro', 'North Macedonia', 'Portugal', 'San Marino',\n",
    "    'Serbia', 'Slovenia', 'Spain', 'Vatican City'\n",
    "]\n",
    "european_countries = southern_europe\n",
    "df = df[df['Area'].isin(european_countries)]"
   ]
  },
  {
   "cell_type": "markdown",
   "id": "c256848f",
   "metadata": {},
   "source": [
    "## Remove duplicates\n",
    "\n",
    "Next, we will remove duplicate rows from the dataset."
   ]
  },
  {
   "cell_type": "code",
   "execution_count": 19,
   "id": "4b48f6e4",
   "metadata": {},
   "outputs": [
    {
     "name": "stdout",
     "output_type": "stream",
     "text": [
      "Exact duplicates found: 0\n",
      "Duplicates based on Year and Area: 0\n",
      "Total rows involved in duplication: 0\n",
      "\n",
      "\n",
      "Cleaning summary: {'original_rows': 394, 'exact_duplicates_removed': 91, 'final_rows': 303}\n"
     ]
    }
   ],
   "source": [
    "# Check for exact duplicates across all columns\n",
    "exact_duplicates = df.duplicated().sum()\n",
    "print(f\"Exact duplicates found: {exact_duplicates}\")\n",
    "\n",
    "# Check duplicates on specific key columns\n",
    "key_duplicates = df.duplicated(subset=['Year', 'Area']).sum()\n",
    "print(f\"Duplicates based on Year and Area: {key_duplicates}\")\n",
    "\n",
    "# Remove exact duplicates (keep first occurrence)\n",
    "df_cleaned = df.drop_duplicates(keep='first')\n",
    "df_cleaned = df_cleaned.dropna(subset=relevant_columns)\n",
    "\n",
    "\n",
    "# View duplicate rows\n",
    "duplicate_rows = df[df.duplicated(keep=False)]\n",
    "print(f\"Total rows involved in duplication: {len(duplicate_rows)}\")\n",
    "\n",
    "cleaning_log = {\n",
    "    'original_rows': len(df),\n",
    "    'exact_duplicates_removed': len(df) - len(df_cleaned),\n",
    "    'final_rows': len(df_cleaned)\n",
    "}\n",
    "print(f\"\\n\\nCleaning summary: {cleaning_log}\")"
   ]
  },
  {
   "cell_type": "markdown",
   "id": "bbd1eb16",
   "metadata": {},
   "source": [
    "## Feature summary\n",
    "\n",
    "Last, we will show a summary of the features in the dataset after cleaning."
   ]
  },
  {
   "cell_type": "code",
   "execution_count": 20,
   "id": "4ccb1c1f",
   "metadata": {},
   "outputs": [
    {
     "name": "stdout",
     "output_type": "stream",
     "text": [
      "\n",
      "\n",
      "Feature summary table:                                                     Feature Name     Type  \\\n",
      "Area                                                        Area   object   \n",
      "Year                                                        Year    int64   \n",
      "Savanna fires                                      Savanna fires  float64   \n",
      "Forest fires                                        Forest fires  float64   \n",
      "Crop Residues                                      Crop Residues  float64   \n",
      "Rice Cultivation                                Rice Cultivation  float64   \n",
      "Drained organic soils (CO2)          Drained organic soils (CO2)  float64   \n",
      "Pesticides Manufacturing                Pesticides Manufacturing  float64   \n",
      "Food Transport                                    Food Transport  float64   \n",
      "Forestland                                            Forestland  float64   \n",
      "Net Forest conversion                      Net Forest conversion  float64   \n",
      "Food Household Consumption            Food Household Consumption  float64   \n",
      "Food Retail                                          Food Retail  float64   \n",
      "On-farm Electricity Use                  On-farm Electricity Use  float64   \n",
      "Food Packaging                                    Food Packaging  float64   \n",
      "Agrifood Systems Waste Disposal  Agrifood Systems Waste Disposal  float64   \n",
      "Food Processing                                  Food Processing  float64   \n",
      "Fertilizers Manufacturing              Fertilizers Manufacturing  float64   \n",
      "IPPU                                                        IPPU  float64   \n",
      "Manure applied to Soils                  Manure applied to Soils  float64   \n",
      "Manure left on Pasture                    Manure left on Pasture  float64   \n",
      "Manure Management                              Manure Management  float64   \n",
      "Fires in organic soils                    Fires in organic soils  float64   \n",
      "Fires in humid tropical forests  Fires in humid tropical forests  float64   \n",
      "On-farm energy use                            On-farm energy use  float64   \n",
      "Rural population                                Rural population  float64   \n",
      "Urban population                                Urban population  float64   \n",
      "Total Population - Male                  Total Population - Male  float64   \n",
      "Total Population - Female              Total Population - Female  float64   \n",
      "total_emission                                    total_emission  float64   \n",
      "Average Temperature °C                    Average Temperature °C  float64   \n",
      "\n",
      "                                 Missing?  Unique Values  \n",
      "Area                                  0.0             11  \n",
      "Year                                  0.0             31  \n",
      "Savanna fires                         0.0            223  \n",
      "Forest fires                          0.0            197  \n",
      "Crop Residues                         0.0            303  \n",
      "Rice Cultivation                      0.0            150  \n",
      "Drained organic soils (CO2)           0.0            146  \n",
      "Pesticides Manufacturing              0.0            176  \n",
      "Food Transport                        0.0            302  \n",
      "Forestland                            0.0             38  \n",
      "Net Forest conversion                 0.0             14  \n",
      "Food Household Consumption            0.0            303  \n",
      "Food Retail                           0.0            303  \n",
      "On-farm Electricity Use               0.0            300  \n",
      "Food Packaging                        0.0            293  \n",
      "Agrifood Systems Waste Disposal       0.0            303  \n",
      "Food Processing                       0.0            287  \n",
      "Fertilizers Manufacturing             0.0            241  \n",
      "IPPU                                  0.0            303  \n",
      "Manure applied to Soils               0.0            303  \n",
      "Manure left on Pasture                0.0            303  \n",
      "Manure Management                     0.0            303  \n",
      "Fires in organic soils                0.0              1  \n",
      "Fires in humid tropical forests       0.0              1  \n",
      "On-farm energy use                    0.0            296  \n",
      "Rural population                      0.0            303  \n",
      "Urban population                      0.0            301  \n",
      "Total Population - Male               0.0            303  \n",
      "Total Population - Female             0.0            303  \n",
      "total_emission                        0.0            303  \n",
      "Average Temperature °C                0.0            302  \n"
     ]
    }
   ],
   "source": [
    "summary = pd.DataFrame({\n",
    "    'Feature Name': df_cleaned.columns,\n",
    "    'Type': df_cleaned.dtypes,\n",
    "    'Missing?': df_cleaned.isnull().mean().round(2),\n",
    "    'Unique Values': df_cleaned.nunique()\n",
    "})\n",
    "print(f\"\\n\\nFeature summary table: {summary}\")"
   ]
  },
  {
   "cell_type": "markdown",
   "id": "6007f118",
   "metadata": {},
   "source": [
    "## Save the cleaned up data"
   ]
  },
  {
   "cell_type": "code",
   "execution_count": 21,
   "id": "eac0c64f",
   "metadata": {},
   "outputs": [],
   "source": [
    "df_cleaned.to_csv('../data/interim/cleaned_data.csv', index=False)"
   ]
  }
 ],
 "metadata": {
  "kernelspec": {
   "display_name": ".venv",
   "language": "python",
   "name": "python3"
  },
  "language_info": {
   "codemirror_mode": {
    "name": "ipython",
    "version": 3
   },
   "file_extension": ".py",
   "mimetype": "text/x-python",
   "name": "python",
   "nbconvert_exporter": "python",
   "pygments_lexer": "ipython3",
   "version": "3.12.11"
  }
 },
 "nbformat": 4,
 "nbformat_minor": 5
}
