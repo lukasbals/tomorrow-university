{
 "cells": [
  {
   "cell_type": "markdown",
   "id": "bfbb708f",
   "metadata": {},
   "source": [
    "# Data cleanup\n",
    "\n",
    "In this notebook, we will perform data cleanup operations on the Agrofood CO2 emission dataset. This includes removing duplicates, handling missing values, and providing a summary of the dataset's features."
   ]
  },
  {
   "cell_type": "code",
   "execution_count": 12,
   "id": "1b03f66b",
   "metadata": {},
   "outputs": [],
   "source": [
    "import pandas as pd"
   ]
  },
  {
   "cell_type": "code",
   "execution_count": 13,
   "id": "85729854",
   "metadata": {},
   "outputs": [],
   "source": [
    "# Load the dataset\n",
    "df = pd.read_csv(\"../data/raw/Agrofood_co2_emission.csv\")"
   ]
  },
  {
   "cell_type": "markdown",
   "id": "e5eb1b8d",
   "metadata": {},
   "source": [
    "# Define relevant columns\n",
    "\n",
    "Only some columns of the dataset are relevant for our analysis. We will keep the following columns:\n",
    "\n",
    "- Year\n",
    "- Area\n",
    "- total_emission\n",
    "- Savanna fires\n",
    "- Forest fires"
   ]
  },
  {
   "cell_type": "code",
   "execution_count": 14,
   "id": "bfa6e410",
   "metadata": {},
   "outputs": [],
   "source": [
    "relevant_columns = ['Year', 'Area', 'total_emission', 'Savanna fires', 'Forest fires']\n",
    "df = df[relevant_columns]"
   ]
  },
  {
   "cell_type": "markdown",
   "id": "c256848f",
   "metadata": {},
   "source": [
    "# Remove duplicates\n",
    "\n",
    "Next, we will remove duplicate rows from the dataset."
   ]
  },
  {
   "cell_type": "code",
   "execution_count": 15,
   "id": "4b48f6e4",
   "metadata": {},
   "outputs": [
    {
     "name": "stdout",
     "output_type": "stream",
     "text": [
      "Exact duplicates found: 0\n",
      "Duplicates based on Year and Area: 0\n",
      "Total rows involved in duplication: 0\n",
      "\n",
      "\n",
      "Cleaning summary: {'original_rows': 6965, 'exact_duplicates_removed': 93, 'final_rows': 6872}\n"
     ]
    }
   ],
   "source": [
    "# Check for exact duplicates across all columns\n",
    "exact_duplicates = df.duplicated().sum()\n",
    "print(f\"Exact duplicates found: {exact_duplicates}\")\n",
    "\n",
    "# Check duplicates on specific key columns\n",
    "key_duplicates = df.duplicated(subset=['Year', 'Area']).sum()\n",
    "print(f\"Duplicates based on Year and Area: {key_duplicates}\")\n",
    "\n",
    "# Remove exact duplicates (keep first occurrence)\n",
    "df_cleaned = df.drop_duplicates(keep='first')\n",
    "df_cleaned = df_cleaned.dropna(subset=relevant_columns)\n",
    "\n",
    "\n",
    "# View duplicate rows\n",
    "duplicate_rows = df[df.duplicated(keep=False)]\n",
    "print(f\"Total rows involved in duplication: {len(duplicate_rows)}\")\n",
    "\n",
    "cleaning_log = {\n",
    "    'original_rows': len(df),\n",
    "    'exact_duplicates_removed': len(df) - len(df_cleaned),\n",
    "    'final_rows': len(df_cleaned)\n",
    "}\n",
    "print(f\"\\n\\nCleaning summary: {cleaning_log}\")"
   ]
  },
  {
   "cell_type": "markdown",
   "id": "bbd1eb16",
   "metadata": {},
   "source": [
    "# Feature summary\n",
    "\n",
    "Last, we will show a summary of the features in the dataset after cleaning."
   ]
  },
  {
   "cell_type": "code",
   "execution_count": 19,
   "id": "4ccb1c1f",
   "metadata": {},
   "outputs": [
    {
     "name": "stdout",
     "output_type": "stream",
     "text": [
      "\n",
      "\n",
      "Feature summary table:                   Feature Name     Type  Missing?  Unique Values\n",
      "Year                      Year    int64       0.0             31\n",
      "Area                      Area   object       0.0            233\n",
      "total_emission  total_emission  float64       0.0           6806\n",
      "Savanna fires    Savanna fires  float64       0.0           3746\n",
      "Forest fires      Forest fires  float64       0.0           2962\n"
     ]
    }
   ],
   "source": [
    "summary = pd.DataFrame({\n",
    "    'Feature Name': df_cleaned.columns,\n",
    "    'Type': df_cleaned.dtypes,\n",
    "    'Missing?': df_cleaned.isnull().mean().round(2),\n",
    "    'Unique Values': df_cleaned.nunique()\n",
    "})\n",
    "print(f\"\\n\\nFeature summary table: {summary}\")"
   ]
  }
 ],
 "metadata": {
  "kernelspec": {
   "display_name": ".venv",
   "language": "python",
   "name": "python3"
  },
  "language_info": {
   "codemirror_mode": {
    "name": "ipython",
    "version": 3
   },
   "file_extension": ".py",
   "mimetype": "text/x-python",
   "name": "python",
   "nbconvert_exporter": "python",
   "pygments_lexer": "ipython3",
   "version": "3.12.11"
  }
 },
 "nbformat": 4,
 "nbformat_minor": 5
}
