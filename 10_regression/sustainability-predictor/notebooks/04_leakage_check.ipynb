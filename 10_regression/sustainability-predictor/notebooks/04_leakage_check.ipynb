{
 "cells": [
  {
   "cell_type": "markdown",
   "id": "bd05fc67",
   "metadata": {},
   "source": [
    "# Detecting leakage\n",
    "\n",
    "It's essential to ensure that our model is not inadvertently using information from the future to make predictions about the past. This is known as \"data leakage\" and can lead to overly optimistic performance estimates during model evaluation."
   ]
  },
  {
   "cell_type": "code",
   "execution_count": 4,
   "id": "45307824",
   "metadata": {},
   "outputs": [],
   "source": [
    "import pandas as pd"
   ]
  },
  {
   "cell_type": "code",
   "execution_count": 5,
   "id": "c9987b2c",
   "metadata": {},
   "outputs": [
    {
     "name": "stdout",
     "output_type": "stream",
     "text": [
      "   Year     Area  total_emission  Savanna fires  Forest fires\n",
      "0  1990  Albania     3475.291240         5.5561        7.0253\n",
      "1  1991  Albania     5680.135772         5.5561        7.0253\n",
      "2  1992  Albania     5221.131572         5.5561        7.0253\n",
      "3  1993  Albania     5316.973272         5.5561        7.0253\n",
      "4  1994  Albania     5564.287672         5.5561        7.0253\n"
     ]
    }
   ],
   "source": [
    "# Load your prepared data from M3L1\n",
    "df = pd.read_csv('../data/interim/cleaned_data.csv')\n",
    "\n",
    "print(df.head())"
   ]
  },
  {
   "cell_type": "markdown",
   "id": "a1bb1e7c",
   "metadata": {},
   "source": [
    "## Calculate Pearson Correlation Coefficient\n",
    "\n",
    "If the Pearson correlation coefficient is higher than 0.95 we are facing potential data leakage."
   ]
  },
  {
   "cell_type": "code",
   "execution_count": 6,
   "id": "c63cd963",
   "metadata": {},
   "outputs": [
    {
     "name": "stdout",
     "output_type": "stream",
     "text": [
      "                Forest fires  total_emission\n",
      "Forest fires        1.000000        0.181559\n",
      "total_emission      0.181559        1.000000\n",
      "                Savanna fires  total_emission\n",
      "Savanna fires        1.000000        0.249266\n",
      "total_emission       0.249266        1.000000\n"
     ]
    }
   ],
   "source": [
    "print(df[['Forest fires', 'total_emission']].corr())\n",
    "print(df[['Savanna fires', 'total_emission']].corr())"
   ]
  }
 ],
 "metadata": {
  "kernelspec": {
   "display_name": ".venv",
   "language": "python",
   "name": "python3"
  },
  "language_info": {
   "codemirror_mode": {
    "name": "ipython",
    "version": 3
   },
   "file_extension": ".py",
   "mimetype": "text/x-python",
   "name": "python",
   "nbconvert_exporter": "python",
   "pygments_lexer": "ipython3",
   "version": "3.12.11"
  }
 },
 "nbformat": 4,
 "nbformat_minor": 5
}
