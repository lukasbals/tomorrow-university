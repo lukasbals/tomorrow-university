{
 "cells": [
  {
   "cell_type": "markdown",
   "id": "bd05fc67",
   "metadata": {},
   "source": [
    "# Detecting leakage\n",
    "\n",
    "It's essential to ensure that our model is not inadvertently using information from the future to make predictions about the past. This is known as \"data leakage\" and can lead to overly optimistic performance estimates during model evaluation."
   ]
  },
  {
   "cell_type": "code",
   "execution_count": 17,
   "id": "45307824",
   "metadata": {},
   "outputs": [],
   "source": [
    "import pandas as pd"
   ]
  },
  {
   "cell_type": "code",
   "execution_count": 20,
   "id": "c9987b2c",
   "metadata": {},
   "outputs": [
    {
     "name": "stdout",
     "output_type": "stream",
     "text": [
      "      Area  Year  Savanna fires  Forest fires  Crop Residues  \\\n",
      "0  Albania  1990         5.5561        7.0253        59.2391   \n",
      "1  Albania  1991         5.5561        7.0253        31.4625   \n",
      "2  Albania  1992         5.5561        7.0253        29.9373   \n",
      "3  Albania  1993         5.5561        7.0253        44.0550   \n",
      "4  Albania  1994         5.5561        7.0253        42.4253   \n",
      "\n",
      "   Rice Cultivation  Drained organic soils (CO2)  Pesticides Manufacturing  \\\n",
      "0           23.5200                     110.5705                       2.0   \n",
      "1            6.2720                     110.5705                       2.0   \n",
      "2            1.8816                     110.5705                       2.0   \n",
      "3            1.0976                     110.5705                       2.0   \n",
      "4            0.0000                     110.5705                       3.0   \n",
      "\n",
      "   Food Transport  Forestland  ...  Manure Management  Fires in organic soils  \\\n",
      "0         46.9645     72.8581  ...           474.6951                     0.0   \n",
      "1         47.9519     72.8581  ...           469.1415                     0.0   \n",
      "2         40.5272     72.8581  ...           453.2180                     0.0   \n",
      "3         57.6592     72.8581  ...           481.3836                     0.0   \n",
      "4         72.4242     72.8581  ...           620.2991                     0.0   \n",
      "\n",
      "   Fires in humid tropical forests  On-farm energy use  Rural population  \\\n",
      "0                              0.0            320.8805         2086075.0   \n",
      "1                              0.0            195.1879         2073348.0   \n",
      "2                              0.0            163.1332         2033508.0   \n",
      "3                              0.0            126.8489         1983942.0   \n",
      "4                              0.0             94.9545         1936056.0   \n",
      "\n",
      "   Urban population  Total Population - Male  Total Population - Female  \\\n",
      "0         1195379.0                1676902.0                  1618163.0   \n",
      "1         1202083.0                1675168.0                  1626914.0   \n",
      "2         1207079.0                1670550.0                  1633189.0   \n",
      "3         1205641.0                1663515.0                  1637195.0   \n",
      "4         1204539.0                1654796.0                  1639203.0   \n",
      "\n",
      "   total_emission  Average Temperature °C  \n",
      "0     3475.291240                0.735750  \n",
      "1     5680.135772               -0.461500  \n",
      "2     5221.131572                0.318250  \n",
      "3     5316.973272                0.270500  \n",
      "4     5564.287672                1.202667  \n",
      "\n",
      "[5 rows x 31 columns]\n"
     ]
    }
   ],
   "source": [
    "# Load your prepared data from M3L1\n",
    "df = pd.read_csv('../data/interim/cleaned_data.csv')\n",
    "\n",
    "print(df.head())"
   ]
  },
  {
   "cell_type": "markdown",
   "id": "a1bb1e7c",
   "metadata": {},
   "source": [
    "## Calculate Pearson Correlation Coefficient\n",
    "\n",
    "If the Pearson correlation coefficient is higher than 0.95 we are facing potential data leakage."
   ]
  },
  {
   "cell_type": "code",
   "execution_count": 21,
   "id": "c63cd963",
   "metadata": {},
   "outputs": [
    {
     "name": "stdout",
     "output_type": "stream",
     "text": [
      "Correlation between Savanna fires and Average Temperature °C: -0.03496828038736671\n",
      "Correlation between Forest fires and Average Temperature °C: -0.024435413226498535\n",
      "Correlation between Crop Residues and Average Temperature °C: -0.017364940155395258\n",
      "Correlation between Rice Cultivation and Average Temperature °C: 0.040637728644439236\n",
      "Correlation between Drained organic soils (CO2) and Average Temperature °C: -0.2519619244773577\n",
      "Correlation between Pesticides Manufacturing and Average Temperature °C: -0.014420800387772808\n",
      "Correlation between Food Transport and Average Temperature °C: -0.006493590247577128\n",
      "Correlation between Forestland and Average Temperature °C: 0.03555168454130399\n",
      "Correlation between Net Forest conversion and Average Temperature °C: 0.1849431966588048\n",
      "Correlation between Food Household Consumption and Average Temperature °C: -0.07972928703206014\n",
      "Correlation between Food Retail and Average Temperature °C: 0.06862919889952393\n",
      "Correlation between On-farm Electricity Use and Average Temperature °C: -0.18455055899119718\n",
      "Correlation between Food Packaging and Average Temperature °C: -0.07718116551097459\n",
      "Correlation between Agrifood Systems Waste Disposal and Average Temperature °C: -0.07781890123299967\n",
      "Correlation between Food Processing and Average Temperature °C: -0.015577777526059242\n",
      "Correlation between Fertilizers Manufacturing and Average Temperature °C: 0.09506989188702221\n",
      "Correlation between IPPU and Average Temperature °C: 0.0017550082997072184\n",
      "Correlation between Manure applied to Soils and Average Temperature °C: -0.010344309656527707\n",
      "Correlation between Manure left on Pasture and Average Temperature °C: -0.1361859161555019\n",
      "Correlation between Manure Management and Average Temperature °C: 0.0035649264985971596\n",
      "Correlation between Fires in organic soils and Average Temperature °C: nan\n",
      "Correlation between Fires in humid tropical forests and Average Temperature °C: nan\n",
      "Correlation between On-farm energy use and Average Temperature °C: -0.09884301409617356\n",
      "Correlation between Rural population and Average Temperature °C: -0.039359783681852646\n",
      "Correlation between Urban population and Average Temperature °C: -0.010695069511074235\n",
      "Correlation between Total Population - Male and Average Temperature °C: -0.020721042546022236\n",
      "Correlation between Total Population - Female and Average Temperature °C: -0.018961240976940866\n",
      "Correlation between total_emission and Average Temperature °C: -0.017360985762502695\n",
      "Correlation between Average Temperature °C and Average Temperature °C: 1.0\n"
     ]
    }
   ],
   "source": [
    "for col in df.columns:\n",
    "    if col != 'Area' and col != 'Year':\n",
    "        print(f\"Correlation between {col} and Average Temperature °C: {df[[col, 'Average Temperature °C']].corr().iloc[0,1]}\")"
   ]
  }
 ],
 "metadata": {
  "kernelspec": {
   "display_name": ".venv",
   "language": "python",
   "name": "python3"
  },
  "language_info": {
   "codemirror_mode": {
    "name": "ipython",
    "version": 3
   },
   "file_extension": ".py",
   "mimetype": "text/x-python",
   "name": "python",
   "nbconvert_exporter": "python",
   "pygments_lexer": "ipython3",
   "version": "3.12.11"
  }
 },
 "nbformat": 4,
 "nbformat_minor": 5
}
