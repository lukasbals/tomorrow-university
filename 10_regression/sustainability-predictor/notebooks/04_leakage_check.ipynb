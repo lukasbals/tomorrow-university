{
 "cells": [
  {
   "cell_type": "markdown",
   "id": "bd05fc67",
   "metadata": {},
   "source": [
    "# Detecting leakage\n",
    "\n",
    "It's essential to ensure that our model is not inadvertently using information from the future to make predictions about the past. This is known as \"data leakage\" and can lead to overly optimistic performance estimates during model evaluation."
   ]
  },
  {
   "cell_type": "code",
   "execution_count": 27,
   "id": "45307824",
   "metadata": {},
   "outputs": [],
   "source": [
    "import pandas as pd"
   ]
  },
  {
   "cell_type": "code",
   "execution_count": 28,
   "id": "c9987b2c",
   "metadata": {},
   "outputs": [
    {
     "name": "stdout",
     "output_type": "stream",
     "text": [
      "          Area  Year  Savanna fires  Forest fires  Crop Residues  \\\n",
      "0  Afghanistan  1990        14.7237        0.0557       205.6077   \n",
      "1  Afghanistan  1991        14.7237        0.0557       209.4971   \n",
      "2  Afghanistan  1992        14.7237        0.0557       196.5341   \n",
      "3  Afghanistan  1993        14.7237        0.0557       230.8175   \n",
      "4  Afghanistan  1994        14.7237        0.0557       242.0494   \n",
      "\n",
      "   Rice Cultivation  Drained organic soils (CO2)  Pesticides Manufacturing  \\\n",
      "0            686.00                          0.0                 11.807483   \n",
      "1            678.16                          0.0                 11.712073   \n",
      "2            686.00                          0.0                 11.712073   \n",
      "3            686.00                          0.0                 11.712073   \n",
      "4            705.60                          0.0                 11.712073   \n",
      "\n",
      "   Food Transport  Forestland  ...  Manure Management  Fires in organic soils  \\\n",
      "0         63.1152   -2388.803  ...           319.1763                     0.0   \n",
      "1         61.2125   -2388.803  ...           342.3079                     0.0   \n",
      "2         53.3170   -2388.803  ...           349.1224                     0.0   \n",
      "3         54.3617   -2388.803  ...           352.2947                     0.0   \n",
      "4         53.9874   -2388.803  ...           367.6784                     0.0   \n",
      "\n",
      "   Fires in humid tropical forests  On-farm energy use  Rural population  \\\n",
      "0                              0.0                 NaN         9655167.0   \n",
      "1                              0.0                 NaN        10230490.0   \n",
      "2                              0.0                 NaN        10995568.0   \n",
      "3                              0.0                 NaN        11858090.0   \n",
      "4                              0.0                 NaN        12690115.0   \n",
      "\n",
      "   Urban population  Total Population - Male  Total Population - Female  \\\n",
      "0         2593947.0                5348387.0                  5346409.0   \n",
      "1         2763167.0                5372959.0                  5372208.0   \n",
      "2         2985663.0                6028494.0                  6028939.0   \n",
      "3         3237009.0                7003641.0                  7000119.0   \n",
      "4         3482604.0                7733458.0                  7722096.0   \n",
      "\n",
      "   total_emission  Average Temperature °C  \n",
      "0     2198.963539                0.536167  \n",
      "1     2323.876629                0.020667  \n",
      "2     2356.304229               -0.259583  \n",
      "3     2368.470529                0.101917  \n",
      "4     2500.768729                0.372250  \n",
      "\n",
      "[5 rows x 31 columns]\n"
     ]
    }
   ],
   "source": [
    "# Load your prepared data from M3L1\n",
    "df = pd.read_csv(\"../data/interim/cleaned_data.csv\")\n",
    "\n",
    "print(df.head())"
   ]
  },
  {
   "cell_type": "markdown",
   "id": "a1bb1e7c",
   "metadata": {},
   "source": [
    "## Calculate Pearson Correlation Coefficient\n",
    "\n",
    "If the Pearson correlation coefficient is higher than 0.95 we are facing potential data leakage."
   ]
  },
  {
   "cell_type": "code",
   "execution_count": 29,
   "id": "c63cd963",
   "metadata": {},
   "outputs": [
    {
     "name": "stdout",
     "output_type": "stream",
     "text": [
      "Correlation between Savanna fires and Average Temperature °C: -0.04658763755189444\n",
      "Correlation between Forest fires and Average Temperature °C: -0.038103612891848423\n",
      "Correlation between Crop Residues and Average Temperature °C: 0.01943397938042484\n",
      "Correlation between Rice Cultivation and Average Temperature °C: -0.02253186470832951\n",
      "Correlation between Drained organic soils (CO2) and Average Temperature °C: 0.029029549376425948\n",
      "Correlation between Pesticides Manufacturing and Average Temperature °C: 0.02795991262892865\n",
      "Correlation between Food Transport and Average Temperature °C: 0.07572424536018706\n",
      "Correlation between Forestland and Average Temperature °C: -0.0492739839812552\n",
      "Correlation between Net Forest conversion and Average Temperature °C: -0.031554585486913894\n",
      "Correlation between Food Household Consumption and Average Temperature °C: 0.05526254631653598\n",
      "Correlation between Food Retail and Average Temperature °C: 0.07340433859515291\n",
      "Correlation between On-farm Electricity Use and Average Temperature °C: 0.009080867736637927\n",
      "Correlation between Food Packaging and Average Temperature °C: 0.04076747906192329\n",
      "Correlation between Agrifood Systems Waste Disposal and Average Temperature °C: 0.008995097810389596\n",
      "Correlation between Food Processing and Average Temperature °C: 0.053083147681134216\n",
      "Correlation between Fertilizers Manufacturing and Average Temperature °C: 0.04146170451201139\n",
      "Correlation between IPPU and Average Temperature °C: 0.06261619860548932\n",
      "Correlation between Manure applied to Soils and Average Temperature °C: 0.044167458539557045\n",
      "Correlation between Manure left on Pasture and Average Temperature °C: -0.015928119943468984\n",
      "Correlation between Manure Management and Average Temperature °C: 0.03393696379832727\n",
      "Correlation between Fires in organic soils and Average Temperature °C: -0.02373145762669596\n",
      "Correlation between Fires in humid tropical forests and Average Temperature °C: -0.03499684341737922\n",
      "Correlation between On-farm energy use and Average Temperature °C: 0.041692485102955285\n",
      "Correlation between Rural population and Average Temperature °C: -0.01976395480997654\n",
      "Correlation between Urban population and Average Temperature °C: 0.03626286149042618\n",
      "Correlation between Total Population - Male and Average Temperature °C: 0.0036230942116170545\n",
      "Correlation between Total Population - Female and Average Temperature °C: 0.005456013950020417\n",
      "Correlation between total_emission and Average Temperature °C: 0.01904307465862215\n",
      "Correlation between Average Temperature °C and Average Temperature °C: 1.0\n"
     ]
    }
   ],
   "source": [
    "for col in df.columns:\n",
    "    if col != \"Area\" and col != \"Year\":\n",
    "        print(\n",
    "            f\"Correlation between {col} and Average Temperature °C: {df[[col, 'Average Temperature °C']].corr().iloc[0,1]}\"\n",
    "        )"
   ]
  }
 ],
 "metadata": {
  "kernelspec": {
   "display_name": ".venv",
   "language": "python",
   "name": "python3"
  },
  "language_info": {
   "codemirror_mode": {
    "name": "ipython",
    "version": 3
   },
   "file_extension": ".py",
   "mimetype": "text/x-python",
   "name": "python",
   "nbconvert_exporter": "python",
   "pygments_lexer": "ipython3",
   "version": "3.12.11"
  }
 },
 "nbformat": 4,
 "nbformat_minor": 5
}
