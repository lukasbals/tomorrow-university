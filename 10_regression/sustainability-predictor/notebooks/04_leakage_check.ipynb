{
 "cells": [
  {
   "cell_type": "markdown",
   "id": "bd05fc67",
   "metadata": {},
   "source": [
    "# Detecting leakage\n",
    "\n",
    "It's essential to ensure that our model is not inadvertently using information from the future to make predictions about the past. This is known as \"data leakage\" and can lead to overly optimistic performance estimates during model evaluation."
   ]
  },
  {
   "cell_type": "code",
   "execution_count": 60,
   "id": "45307824",
   "metadata": {},
   "outputs": [],
   "source": [
    "import pandas as pd"
   ]
  },
  {
   "cell_type": "code",
   "execution_count": 61,
   "id": "c9987b2c",
   "metadata": {},
   "outputs": [
    {
     "name": "stdout",
     "output_type": "stream",
     "text": [
      "   squareMeters  numberOfRooms  hasYard  hasPool  floors  cityCode  \\\n",
      "0         75523              3        0        1      63      9373   \n",
      "1         80771             39        1        1      98     39381   \n",
      "2         55712             58        0        1      19     34457   \n",
      "3         32316             47        0        0       6     27939   \n",
      "4         70429             19        1        1      90     38045   \n",
      "\n",
      "   cityPartRange  numPrevOwners  made  isNewBuilt  hasStormProtector  \\\n",
      "0              3              8  2005           0                  1   \n",
      "1              8              6  2015           1                  0   \n",
      "2              6              8  2021           0                  0   \n",
      "3             10              4  2012           0                  1   \n",
      "4              3              7  1990           1                  0   \n",
      "\n",
      "   basement  attic  garage  hasStorageRoom  hasGuestRoom      price  \n",
      "0      4313   9005     956               0             7  7559081.5  \n",
      "1      3653   2436     128               1             2  8085989.5  \n",
      "2      2937   8852     135               1             9  5574642.1  \n",
      "3       659   7141     359               0             3  3232561.2  \n",
      "4      8435   2429     292               1             4  7055052.0  \n"
     ]
    }
   ],
   "source": [
    "# Load your prepared data from M3L1\n",
    "df = pd.read_csv(\"../data/interim/cleaned_data.csv\")\n",
    "\n",
    "print(df.head())"
   ]
  },
  {
   "cell_type": "markdown",
   "id": "a1bb1e7c",
   "metadata": {},
   "source": [
    "## Calculate Pearson Correlation Coefficient\n",
    "\n",
    "If the Pearson correlation coefficient is higher than 0.95 we are facing potential data leakage."
   ]
  },
  {
   "cell_type": "code",
   "execution_count": 62,
   "id": "c63cd963",
   "metadata": {},
   "outputs": [
    {
     "name": "stdout",
     "output_type": "stream",
     "text": [
      "Correlation between squareMeters and price: 0.9999993570640745\n",
      "Correlation between numberOfRooms and price: 0.009590905935479123\n",
      "Correlation between hasYard and price: -0.006119244882540521\n",
      "Correlation between hasPool and price: -0.005070340833862509\n",
      "Correlation between floors and price: 0.0016542562406504835\n",
      "Correlation between cityCode and price: -0.0015393673485808049\n",
      "Correlation between cityPartRange and price: 0.008812911660535352\n",
      "Correlation between numPrevOwners and price: 0.016618826067943373\n",
      "Correlation between made and price: -0.007209526254690733\n",
      "Correlation between isNewBuilt and price: -0.010642774359518868\n",
      "Correlation between hasStormProtector and price: 0.0074959113342807585\n",
      "Correlation between basement and price: -0.003967482178851138\n",
      "Correlation between attic and price: -0.0005995140774963296\n",
      "Correlation between garage and price: -0.017229051207338156\n",
      "Correlation between hasStorageRoom and price: -0.0034852993013792825\n",
      "Correlation between hasGuestRoom and price: -0.0006439241048174496\n",
      "Correlation between price and price: 1.0\n"
     ]
    }
   ],
   "source": [
    "for col in df.columns:\n",
    "    print(\n",
    "        f\"Correlation between {col} and price: {df[[col, 'price']].corr().iloc[0,1]}\"\n",
    "    )"
   ]
  }
 ],
 "metadata": {
  "kernelspec": {
   "display_name": ".venv",
   "language": "python",
   "name": "python3"
  },
  "language_info": {
   "codemirror_mode": {
    "name": "ipython",
    "version": 3
   },
   "file_extension": ".py",
   "mimetype": "text/x-python",
   "name": "python",
   "nbconvert_exporter": "python",
   "pygments_lexer": "ipython3",
   "version": "3.12.11"
  }
 },
 "nbformat": 4,
 "nbformat_minor": 5
}
