{
 "cells": [
  {
   "cell_type": "markdown",
   "id": "bd05fc67",
   "metadata": {},
   "source": [
    "# Detecting leakage\n",
    "\n",
    "It's essential to ensure that our model is not inadvertently using information from the future to make predictions about the past. This is known as \"data leakage\" and can lead to overly optimistic performance estimates during model evaluation."
   ]
  },
  {
   "cell_type": "code",
   "execution_count": 34,
   "id": "45307824",
   "metadata": {},
   "outputs": [],
   "source": [
    "import pandas as pd"
   ]
  },
  {
   "cell_type": "code",
   "execution_count": 35,
   "id": "c9987b2c",
   "metadata": {},
   "outputs": [
    {
     "name": "stdout",
     "output_type": "stream",
     "text": [
      "   Year         Area  total_emission  Savanna fires  Forest fires\n",
      "0  1990  Afghanistan     2198.963539        14.7237        0.0557\n",
      "1  1991  Afghanistan     2323.876629        14.7237        0.0557\n",
      "2  1992  Afghanistan     2356.304229        14.7237        0.0557\n",
      "3  1993  Afghanistan     2368.470529        14.7237        0.0557\n",
      "4  1994  Afghanistan     2500.768729        14.7237        0.0557\n"
     ]
    }
   ],
   "source": [
    "# Load your prepared data from M3L1\n",
    "df = pd.read_csv('../data/interim/cleaned_data.csv')\n",
    "\n",
    "print(df.head())"
   ]
  },
  {
   "cell_type": "markdown",
   "id": "a1bb1e7c",
   "metadata": {},
   "source": [
    "## Calculate Pearson Correlation Coefficient\n",
    "\n",
    "If the Pearson correlation coefficient is higher than 0.95 we are facing potential data leakage."
   ]
  },
  {
   "cell_type": "code",
   "execution_count": 36,
   "id": "c63cd963",
   "metadata": {},
   "outputs": [
    {
     "name": "stdout",
     "output_type": "stream",
     "text": [
      "                Forest fires  total_emission\n",
      "Forest fires        1.000000        0.238744\n",
      "total_emission      0.238744        1.000000\n",
      "                Savanna fires  total_emission\n",
      "Savanna fires        1.000000        0.128286\n",
      "total_emission       0.128286        1.000000\n"
     ]
    }
   ],
   "source": [
    "print(df[['Forest fires', 'total_emission']].corr())\n",
    "print(df[['Savanna fires', 'total_emission']].corr())"
   ]
  }
 ],
 "metadata": {
  "kernelspec": {
   "display_name": ".venv",
   "language": "python",
   "name": "python3"
  },
  "language_info": {
   "codemirror_mode": {
    "name": "ipython",
    "version": 3
   },
   "file_extension": ".py",
   "mimetype": "text/x-python",
   "name": "python",
   "nbconvert_exporter": "python",
   "pygments_lexer": "ipython3",
   "version": "3.12.11"
  }
 },
 "nbformat": 4,
 "nbformat_minor": 5
}
