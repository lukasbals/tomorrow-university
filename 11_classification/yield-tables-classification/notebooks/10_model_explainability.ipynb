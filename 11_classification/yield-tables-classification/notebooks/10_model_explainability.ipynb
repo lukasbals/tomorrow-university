{
 "cells": [
  {
   "cell_type": "markdown",
   "id": "8ac4a0aa",
   "metadata": {},
   "source": [
    "# Model Explainability\n",
    "\n",
    "**Concept:** Model explainability means understanding how your AI makes decisions. In today's world, it's not enough to have accurate models. People need to trust, validate, and act on AI insights with confidence."
   ]
  },
  {
   "cell_type": "code",
   "execution_count": 7,
   "id": "467d4f9d",
   "metadata": {},
   "outputs": [
    {
     "name": "stdout",
     "output_type": "stream",
     "text": [
      "Logistic Regression Validation Score: 0.849\n",
      "Random Forest Validation Score: 0.911\n",
      "SVM Validation Score: 0.898\n",
      "KNN Validation Score: 0.915\n"
     ]
    }
   ],
   "source": [
    "from sklearn.ensemble import RandomForestClassifier\n",
    "from sklearn.svm import SVC\n",
    "from sklearn.linear_model import LogisticRegression\n",
    "from sklearn.neighbors import KNeighborsClassifier\n",
    "from sklearn.metrics import confusion_matrix\n",
    "import pandas as pd\n",
    "import numpy as np\n",
    "import matplotlib.pyplot as plt\n",
    "import lime\n",
    "import lime.lime_tabular\n",
    "\n",
    "X_train = pd.read_csv(\"../data/processed/X_train.csv\")\n",
    "X_val = pd.read_csv(\"../data/processed/X_val.csv\")\n",
    "X_test = pd.read_csv(\"../data/processed/X_test.csv\")\n",
    "y_train = pd.read_csv(\"../data/processed/y_train.csv\")\n",
    "y_val = pd.read_csv(\"../data/processed/y_val.csv\")\n",
    "y_test = pd.read_csv(\"../data/processed/y_test.csv\")\n",
    "\n",
    "target_variable = \"tree_type\"\n",
    "\n",
    "models = {\n",
    "    \"Logistic Regression\": LogisticRegression(C=0.01, penalty='l2', solver='saga'),\n",
    "    \"Random Forest\": RandomForestClassifier(max_depth=None, max_features='sqrt', min_samples_split=2, n_estimators=100),\n",
    "    \"SVM\": SVC(C=100, gamma='auto', kernel='rbf', probability=True),\n",
    "    \"KNN\": KNeighborsClassifier(metric='euclidean', n_neighbors=7, weights='distance'),\n",
    "}\n",
    "\n",
    "# Fit all the models\n",
    "for name, model in models.items():\n",
    "    model.fit(X_train, y_train[target_variable])\n",
    "    score = model.score(X_val, y_val)\n",
    "    print(f\"{name} Validation Score: {score:.3f}\")"
   ]
  },
  {
   "cell_type": "markdown",
   "id": "acbf08e7",
   "metadata": {},
   "source": [
    "## LIME: Local Interpretable Explanations\n",
    "\n",
    "**Concept:** LIME explains individual predictions by learning simple models that approximate your complex model's behavior locally. Think of it as creating a \"local map\" around each prediction to understand what the model is doing in that specific area.\n",
    "\n",
    "**Why I use LIME and not SHAP?**\n",
    "\n",
    "- **LIME vs SHAP**\n",
    "  - LIME Strengths:\n",
    "    - Works with any model type.\n",
    "    - Fast for individual explanations.\n",
    "    - Easy to understand local approximations.\n",
    "  - LIME Limitations:\n",
    "    - Only explains local behavior.\n",
    "    - Can be unstable (different explanations for similar cases).\n",
    "    - Quality depends on how well local sampling works.\n",
    "  - SHAP Strengths:\n",
    "    - Theoretically guaranteed fair attribution.\n",
    "    - More stable and consistent results.\n",
    "    - Can provide both local and global insights."
   ]
  },
  {
   "cell_type": "code",
   "execution_count": 9,
   "id": "f6c4d593",
   "metadata": {},
   "outputs": [
    {
     "name": "stdout",
     "output_type": "stream",
     "text": [
      "\n",
      "Logistic Regression Model Explanation with LIME:\n",
      "LIME explanation for sample 0:\n",
      "- basal_area > 0.50 decreases prediction by 0.427\n",
      "- average_height > 0.44 increases prediction by 0.162\n",
      "- 0.00 < age <= 0.45 decreases prediction by 0.065\n",
      "- 0.00 < dbh <= 0.44 increases prediction by 0.036\n",
      "- -0.31 < trees_per_ha <= 0.00 increases prediction by 0.015\n",
      "\n",
      "Random Forest Model Explanation with LIME:\n",
      "LIME explanation for sample 0:\n",
      "- basal_area > 0.50 decreases prediction by 0.311\n",
      "- average_height > 0.44 increases prediction by 0.096\n",
      "- -0.31 < trees_per_ha <= 0.00 increases prediction by 0.076\n",
      "- 0.00 < age <= 0.45 decreases prediction by 0.043\n",
      "- 0.00 < dbh <= 0.44 increases prediction by 0.002\n",
      "\n",
      "SVM Model Explanation with LIME:\n"
     ]
    },
    {
     "name": "stderr",
     "output_type": "stream",
     "text": [
      "/Users/lukasbals/tomorrow-university/11_classification/yield-tables-classification/.venv/lib/python3.12/site-packages/sklearn/utils/validation.py:2749: UserWarning: X does not have valid feature names, but LogisticRegression was fitted with feature names\n",
      "  warnings.warn(\n",
      "/Users/lukasbals/tomorrow-university/11_classification/yield-tables-classification/.venv/lib/python3.12/site-packages/sklearn/utils/validation.py:2749: UserWarning: X does not have valid feature names, but RandomForestClassifier was fitted with feature names\n",
      "  warnings.warn(\n",
      "/Users/lukasbals/tomorrow-university/11_classification/yield-tables-classification/.venv/lib/python3.12/site-packages/sklearn/utils/validation.py:2749: UserWarning: X does not have valid feature names, but SVC was fitted with feature names\n",
      "  warnings.warn(\n"
     ]
    },
    {
     "name": "stdout",
     "output_type": "stream",
     "text": [
      "LIME explanation for sample 0:\n",
      "- basal_area > 0.50 decreases prediction by 0.228\n",
      "- average_height > 0.44 increases prediction by 0.201\n",
      "- 0.00 < age <= 0.45 decreases prediction by 0.074\n",
      "- -0.31 < trees_per_ha <= 0.00 increases prediction by 0.070\n",
      "- 0.00 < dbh <= 0.44 decreases prediction by 0.039\n",
      "\n",
      "KNN Model Explanation with LIME:\n",
      "LIME explanation for sample 0:\n",
      "- basal_area > 0.50 decreases prediction by 0.372\n",
      "- -0.31 < trees_per_ha <= 0.00 increases prediction by 0.153\n",
      "- average_height > 0.44 increases prediction by 0.114\n",
      "- 0.00 < age <= 0.45 decreases prediction by 0.099\n",
      "- 0.00 < dbh <= 0.44 decreases prediction by 0.003\n"
     ]
    },
    {
     "name": "stderr",
     "output_type": "stream",
     "text": [
      "/Users/lukasbals/tomorrow-university/11_classification/yield-tables-classification/.venv/lib/python3.12/site-packages/sklearn/utils/validation.py:2749: UserWarning: X does not have valid feature names, but KNeighborsClassifier was fitted with feature names\n",
      "  warnings.warn(\n"
     ]
    }
   ],
   "source": [
    "# Basic LIME usage (install with: pip install lime)\n",
    "def explain_with_lime(model, X_train, X_test, feature_names, sample_index=0):\n",
    "    # Create LIME explainer\n",
    "    explainer = lime.lime_tabular.LimeTabularExplainer(\n",
    "        X_train, \n",
    "        feature_names=feature_names,\n",
    "        mode='classification'\n",
    "    )\n",
    "\n",
    "    # Explain one prediction\n",
    "    explanation = explainer.explain_instance(\n",
    "        X_test[sample_index], \n",
    "        model.predict_proba, \n",
    "        num_features=5\n",
    "    )\n",
    "    \n",
    "    # Show explanation\n",
    "    print(f\"LIME explanation for sample {sample_index}:\")\n",
    "    for feature, contribution in explanation.as_list():\n",
    "        direction = \"increases\" if contribution > 0 else \"decreases\"\n",
    "        print(f\"- {feature} {direction} prediction by {abs(contribution):.3f}\")\n",
    "\n",
    "for name, model in models.items():\n",
    "    print(f\"\\n{name} Model Explanation with LIME:\")\n",
    "    explain_with_lime(model, X_train.values, X_val.values, X_train.columns, sample_index=0)"
   ]
  }
 ],
 "metadata": {
  "kernelspec": {
   "display_name": ".venv",
   "language": "python",
   "name": "python3"
  },
  "language_info": {
   "codemirror_mode": {
    "name": "ipython",
    "version": 3
   },
   "file_extension": ".py",
   "mimetype": "text/x-python",
   "name": "python",
   "nbconvert_exporter": "python",
   "pygments_lexer": "ipython3",
   "version": "3.12.11"
  }
 },
 "nbformat": 4,
 "nbformat_minor": 5
}
