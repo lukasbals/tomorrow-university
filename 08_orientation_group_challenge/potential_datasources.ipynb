{
 "cells": [
  {
   "cell_type": "markdown",
   "metadata": {},
   "source": [
    "# Potential datasources\n",
    "\n",
    "For livestock data:\n",
    "\n",
    "- https://www.kaggle.com/code/fethullahceviz/worldfoodbank-livestock-analaysis/input?select=live1.csv\n",
    "  Problem: Only head counts per assess, cattle, ... . No emissions.\n",
    "- https://www.kaggle.com/datasets/amandaroseknudsen/gleamlivestockemissions\n",
    "  Looks very promising!\n"
   ]
  }
 ],
 "metadata": {
  "language_info": {
   "name": "python"
  }
 },
 "nbformat": 4,
 "nbformat_minor": 2
}
